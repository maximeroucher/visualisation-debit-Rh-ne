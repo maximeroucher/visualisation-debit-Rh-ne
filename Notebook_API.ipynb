{
 "cells": [
  {
   "cell_type": "code",
   "execution_count": 1,
   "metadata": {},
   "outputs": [],
   "source": [
    "from fontion_API import get_data_debit, build_graph, create_graph, create_graph_periode\n",
    "import pandas as pd"
   ]
  },
  {
   "cell_type": "code",
   "execution_count": null,
   "metadata": {},
   "outputs": [],
   "source": [
    "site_affluent_rhone = pd.read_csv(\"database/site_affluent_rhone.csv\")\n",
    "confluence = pd.read_csv(\"database/confluence.csv\")\n",
    "# sauver"
   ]
  },
  {
   "cell_type": "code",
   "execution_count": 3,
   "metadata": {},
   "outputs": [],
   "source": [
    "graph = create_graph_periode(site_affluent_rhone=site_affluent_rhone,confluence=confluence, date_debut=\"2023-11-01\", date_fin=\"2023-12-31\", month=False)"
   ]
  },
  {
   "cell_type": "code",
   "execution_count": 4,
   "metadata": {},
   "outputs": [],
   "source": [
    "# les elements avec source = Le Rhône_521.0 en premier dans le dataframe graph\n",
    "graph = graph.sort_values(by=\"source\", ascending=False)\n"
   ]
  },
  {
   "cell_type": "code",
   "execution_count": 10,
   "metadata": {},
   "outputs": [
    {
     "data": {
      "text/html": [
       "<div>\n",
       "<style scoped>\n",
       "    .dataframe tbody tr th:only-of-type {\n",
       "        vertical-align: middle;\n",
       "    }\n",
       "\n",
       "    .dataframe tbody tr th {\n",
       "        vertical-align: top;\n",
       "    }\n",
       "\n",
       "    .dataframe thead th {\n",
       "        text-align: right;\n",
       "    }\n",
       "</style>\n",
       "<table border=\"1\" class=\"dataframe\">\n",
       "  <thead>\n",
       "    <tr style=\"text-align: right;\">\n",
       "      <th></th>\n",
       "      <th>source</th>\n",
       "      <th>target</th>\n",
       "      <th>value</th>\n",
       "      <th>distance_end</th>\n",
       "      <th>code_site</th>\n",
       "      <th>date</th>\n",
       "    </tr>\n",
       "  </thead>\n",
       "  <tbody>\n",
       "    <tr>\n",
       "      <th>8</th>\n",
       "      <td>Le Rhône_99.0</td>\n",
       "      <td>Le Rhône_61.0</td>\n",
       "      <td>2649.354</td>\n",
       "      <td>99.0</td>\n",
       "      <td>V5480001</td>\n",
       "      <td>2023-11-13</td>\n",
       "    </tr>\n",
       "    <tr>\n",
       "      <th>8</th>\n",
       "      <td>Le Rhône_99.0</td>\n",
       "      <td>Le Rhône_61.0</td>\n",
       "      <td>5258.896</td>\n",
       "      <td>99.0</td>\n",
       "      <td>V5480001</td>\n",
       "      <td>2023-12-14</td>\n",
       "    </tr>\n",
       "    <tr>\n",
       "      <th>8</th>\n",
       "      <td>Le Rhône_99.0</td>\n",
       "      <td>Le Rhône_61.0</td>\n",
       "      <td>2524.729</td>\n",
       "      <td>99.0</td>\n",
       "      <td>V5480001</td>\n",
       "      <td>2023-11-12</td>\n",
       "    </tr>\n",
       "    <tr>\n",
       "      <th>8</th>\n",
       "      <td>Le Rhône_99.0</td>\n",
       "      <td>Le Rhône_61.0</td>\n",
       "      <td>3317.021</td>\n",
       "      <td>99.0</td>\n",
       "      <td>V5480001</td>\n",
       "      <td>2023-12-06</td>\n",
       "    </tr>\n",
       "    <tr>\n",
       "      <th>7</th>\n",
       "      <td>Le Rhône_99.0</td>\n",
       "      <td>Le Rhône_61.0</td>\n",
       "      <td>2516.250</td>\n",
       "      <td>99.0</td>\n",
       "      <td>V5480001</td>\n",
       "      <td>2023-12-27</td>\n",
       "    </tr>\n",
       "    <tr>\n",
       "      <th>...</th>\n",
       "      <td>...</td>\n",
       "      <td>...</td>\n",
       "      <td>...</td>\n",
       "      <td>...</td>\n",
       "      <td>...</td>\n",
       "      <td>...</td>\n",
       "    </tr>\n",
       "    <tr>\n",
       "      <th>11</th>\n",
       "      <td>L'Ain_19.0</td>\n",
       "      <td>Le Rhône_217.0</td>\n",
       "      <td>191.112</td>\n",
       "      <td>386.0</td>\n",
       "      <td>V2942010</td>\n",
       "      <td>2023-11-19</td>\n",
       "    </tr>\n",
       "    <tr>\n",
       "      <th>11</th>\n",
       "      <td>L'Ain_19.0</td>\n",
       "      <td>Le Rhône_217.0</td>\n",
       "      <td>193.989</td>\n",
       "      <td>386.0</td>\n",
       "      <td>V2942010</td>\n",
       "      <td>2023-11-08</td>\n",
       "    </tr>\n",
       "    <tr>\n",
       "      <th>10</th>\n",
       "      <td>L'Ain_19.0</td>\n",
       "      <td>Le Rhône_217.0</td>\n",
       "      <td>192.185</td>\n",
       "      <td>386.0</td>\n",
       "      <td>V2942010</td>\n",
       "      <td>2023-12-28</td>\n",
       "    </tr>\n",
       "    <tr>\n",
       "      <th>11</th>\n",
       "      <td>L'Ain_19.0</td>\n",
       "      <td>Le Rhône_217.0</td>\n",
       "      <td>577.387</td>\n",
       "      <td>386.0</td>\n",
       "      <td>V2942010</td>\n",
       "      <td>2023-12-15</td>\n",
       "    </tr>\n",
       "    <tr>\n",
       "      <th>11</th>\n",
       "      <td>L'Ain_19.0</td>\n",
       "      <td>Le Rhône_217.0</td>\n",
       "      <td>286.553</td>\n",
       "      <td>386.0</td>\n",
       "      <td>V2942010</td>\n",
       "      <td>2023-12-09</td>\n",
       "    </tr>\n",
       "  </tbody>\n",
       "</table>\n",
       "<p>1525 rows × 6 columns</p>\n",
       "</div>"
      ],
      "text/plain": [
       "           source          target     value  distance_end code_site       date\n",
       "8   Le Rhône_99.0   Le Rhône_61.0  2649.354          99.0  V5480001 2023-11-13\n",
       "8   Le Rhône_99.0   Le Rhône_61.0  5258.896          99.0  V5480001 2023-12-14\n",
       "8   Le Rhône_99.0   Le Rhône_61.0  2524.729          99.0  V5480001 2023-11-12\n",
       "8   Le Rhône_99.0   Le Rhône_61.0  3317.021          99.0  V5480001 2023-12-06\n",
       "7   Le Rhône_99.0   Le Rhône_61.0  2516.250          99.0  V5480001 2023-12-27\n",
       "..            ...             ...       ...           ...       ...        ...\n",
       "11     L'Ain_19.0  Le Rhône_217.0   191.112         386.0  V2942010 2023-11-19\n",
       "11     L'Ain_19.0  Le Rhône_217.0   193.989         386.0  V2942010 2023-11-08\n",
       "10     L'Ain_19.0  Le Rhône_217.0   192.185         386.0  V2942010 2023-12-28\n",
       "11     L'Ain_19.0  Le Rhône_217.0   577.387         386.0  V2942010 2023-12-15\n",
       "11     L'Ain_19.0  Le Rhône_217.0   286.553         386.0  V2942010 2023-12-09\n",
       "\n",
       "[1525 rows x 6 columns]"
      ]
     },
     "execution_count": 10,
     "metadata": {},
     "output_type": "execute_result"
    }
   ],
   "source": [
    "graph"
   ]
  },
  {
   "cell_type": "code",
   "execution_count": 11,
   "metadata": {},
   "outputs": [],
   "source": [
    "# sauvegarder le graph en csv\n",
    "graph.to_csv(\"database/graph.csv\", index=False)"
   ]
  },
  {
   "cell_type": "code",
   "execution_count": 14,
   "metadata": {},
   "outputs": [
    {
     "data": {
      "text/plain": [
       "array(['V5480001', 'V1000010', 'V1020020', 'V1264024', 'V1264022',\n",
       "       'V1630020', 'V4010010', 'U4300010', 'V3000020', 'X3020010',\n",
       "       'X3210201', 'X3310010', 'X3500010', 'W3200010', 'W1300010',\n",
       "       'W1310010', 'W1400001', 'W1410010', 'V5014040', 'V5014010',\n",
       "       'V5035022', 'V5054010', 'V5064010', 'V5004030', 'V5131010',\n",
       "       'V2712010', 'V2942010'], dtype=object)"
      ]
     },
     "execution_count": 14,
     "metadata": {},
     "output_type": "execute_result"
    }
   ],
   "source": [
    "graph[\"code_site\"].unique()"
   ]
  },
  {
   "cell_type": "code",
   "execution_count": 66,
   "metadata": {},
   "outputs": [],
   "source": [
    "# verifier qu'il y a les memes sources pour chaque date dans graph\n",
    "list_source = []\n",
    "for date in graph[\"date\"].unique():\n",
    "    source = graph[graph[\"date\"] == date][\"source\"].unique()\n",
    "    list_source.append(source)\n",
    "# donner les sources qui sont dans toutes les dates\n",
    "source_commune = list_source[0]\n",
    "for source in list_source:\n",
    "    source_commune = [x for x in source_commune if x in source]\n",
    "    "
   ]
  },
  {
   "cell_type": "code",
   "execution_count": 67,
   "metadata": {},
   "outputs": [],
   "source": [
    "# trouver les sites qui sont dans source_commune\n",
    "site_communs = site_affluent_rhone[site_affluent_rhone[\"source\"].isin(source_commune)][\"code_site\"]"
   ]
  },
  {
   "cell_type": "code",
   "execution_count": 69,
   "metadata": {},
   "outputs": [
    {
     "name": "stdout",
     "output_type": "stream",
     "text": [
      "[27, 27, 27, 27, 27, 27, 27, 27, 27, 27, 27, 27, 27]\n"
     ]
    }
   ],
   "source": [
    "print([len(source) for source in list_source])"
   ]
  },
  {
   "cell_type": "code",
   "execution_count": 71,
   "metadata": {},
   "outputs": [
    {
     "data": {
      "text/html": [
       "<div>\n",
       "<style scoped>\n",
       "    .dataframe tbody tr th:only-of-type {\n",
       "        vertical-align: middle;\n",
       "    }\n",
       "\n",
       "    .dataframe tbody tr th {\n",
       "        vertical-align: top;\n",
       "    }\n",
       "\n",
       "    .dataframe thead th {\n",
       "        text-align: right;\n",
       "    }\n",
       "</style>\n",
       "<table border=\"1\" class=\"dataframe\">\n",
       "  <thead>\n",
       "    <tr style=\"text-align: right;\">\n",
       "      <th></th>\n",
       "      <th>geometry</th>\n",
       "      <th>river_name</th>\n",
       "      <th>distance</th>\n",
       "      <th>code_site</th>\n",
       "      <th>source</th>\n",
       "    </tr>\n",
       "  </thead>\n",
       "  <tbody>\n",
       "    <tr>\n",
       "      <th>14</th>\n",
       "      <td>POINT (831247.9998911195 6364615.004544967)</td>\n",
       "      <td>Le Rhône</td>\n",
       "      <td>144.0</td>\n",
       "      <td>V4570010</td>\n",
       "      <td>Le Rhône_144.0</td>\n",
       "    </tr>\n",
       "  </tbody>\n",
       "</table>\n",
       "</div>"
      ],
      "text/plain": [
       "                                       geometry river_name  distance  \\\n",
       "14  POINT (831247.9998911195 6364615.004544967)   Le Rhône     144.0   \n",
       "\n",
       "   code_site          source  \n",
       "14  V4570010  Le Rhône_144.0  "
      ]
     },
     "execution_count": 71,
     "metadata": {},
     "output_type": "execute_result"
    }
   ],
   "source": [
    "site_affluent_rhone[site_affluent_rhone[\"source\"] == \"Le Rhône_144.0\"]"
   ]
  },
  {
   "cell_type": "code",
   "execution_count": null,
   "metadata": {},
   "outputs": [],
   "source": []
  }
 ],
 "metadata": {
  "kernelspec": {
   "display_name": "Python 3",
   "language": "python",
   "name": "python3"
  },
  "language_info": {
   "codemirror_mode": {
    "name": "ipython",
    "version": 3
   },
   "file_extension": ".py",
   "mimetype": "text/x-python",
   "name": "python",
   "nbconvert_exporter": "python",
   "pygments_lexer": "ipython3",
   "version": "3.10.11"
  }
 },
 "nbformat": 4,
 "nbformat_minor": 2
}
